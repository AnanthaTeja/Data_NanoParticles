{
 "cells": [
  {
   "cell_type": "code",
   "execution_count": 8,
   "metadata": {},
   "outputs": [
    {
     "name": "stdout",
     "output_type": "stream",
     "text": [
      "\n",
      "Cytotoxicity Analysis for Gold particles on hela cells:\n",
      "\n",
      "Cytotoxicity Analysis for Gold particles (Gold NP) on hela cells:\n",
      "Gold NP nanomaterial of size 10-20nm with shape as Sphere and with Pongamia pinnata extract capping agent and toxicity 100 mg/ml has better cellular uptake\n",
      "Gold NP nanomaterial of size 3–10 nm with shape as Sphere and with chitosan (CH) capping agent and toxicity 75 µM- 85% cell viability loss has better cellular uptake\n",
      "Gold NP nanomaterial of size 110.1 ± 5.3 nm with shape as Sphere and with polyethylene glycol (PEG) capping agent and toxicity 25.37 µM has better cellular uptake\n",
      "Gold NP nanomaterial of size 3.6 nm with shape as Sphere and with PEG capping agent and toxicity 25 nM has better cellular uptake\n",
      "\n",
      "Cytotoxicity Analysis for Gold particles (Gold nm\n",
      ") on hela cells:\n",
      "Gold nm\n",
      " nanomaterial of size 40 nm with shape as ROD and with CTAB capping agent and toxicity 15 µg/mL has better cellular uptake\n",
      "Gold nm\n",
      " nanomaterial of size 40 nm with shape as SPHERE and with CTAB capping agent and toxicity 15 µg/mL has better cellular uptake\n",
      "Gold nm\n",
      " nanomaterial of size 65 × 11 nm with shape as ROD and with CTAB capping agent and toxicity 0.5 mM has better cellular uptake\n",
      "Gold nm\n",
      " nanomaterial of size 18 nm with shape as SPHERE and with CTAB capping agent and toxicity 0.5 mM has better cellular uptake\n"
     ]
    }
   ],
   "source": [
    "import pandas as pd\n",
    "import re\n",
    "file_path = 'Your_file.csv'\n",
    "df = pd.read_csv(file_path)\n",
    "particle_column = 'Nanomaterial'\n",
    "cell_type_column = 'Cell type'\n",
    "\n",
    "# Fill missing values in the Columns with empty strings\n",
    "df[particle_column] = df[particle_column].fillna('')\n",
    "df[cell_type_column] = df[cell_type_column].fillna('')\n",
    "\n",
    "# Get user input for the type of particles\n",
    "particle_input = input(\"Enter the type of particles to display (gold, silver, other): \").lower()\n",
    "\n",
    "# Create separate data frames for gold, silver, and other particles\n",
    "gold_df = df[df[particle_column].str.lower().str.contains('gold|au')]\n",
    "silver_df = df[df[particle_column].str.lower().str.contains('silver')]\n",
    "other_df = df[~(df[particle_column].str.lower().str.contains('gold|au|silver'))]\n",
    "\n",
    "# Select the data frame based on user input\n",
    "if particle_input == 'gold':\n",
    "    particle_df = gold_df\n",
    "    particle_type = 'Gold'\n",
    "elif particle_input == 'silver':\n",
    "    particle_df = silver_df\n",
    "    particle_type = 'Silver'\n",
    "else:\n",
    "    particle_df = other_df\n",
    "    particle_type = 'Other'\n",
    "\n",
    "# Get user input for the cell type\n",
    "cell_type_input = input(\"Enter the cell type (Hek, hela): \").lower()\n",
    "filtered_df = particle_df[particle_df[cell_type_column].str.lower().str.contains(cell_type_input)].copy()\n",
    "\n",
    "def extract_value_and_unit(value):\n",
    "    match = re.match(r'([0-9.]+)\\s*([a-zA-ZµM]+)', str(value))\n",
    "    if match:\n",
    "        return float(match.group(1)), match.group(2)\n",
    "    return None, None\n",
    "\n",
    "unique_nanomaterials = filtered_df[particle_column].unique()\n",
    "\n",
    "print(f\"\\nCytotoxicity Analysis for {particle_type} particles on {cell_type_input} cells:\")\n",
    "\n",
    "for nanomaterial in unique_nanomaterials:\n",
    "    nanomaterial_df = filtered_df[filtered_df[particle_column] == nanomaterial].copy()\n",
    "    nanomaterial_df[['Value', 'Unit']] = nanomaterial_df['Cytotoxicity (mg/ml)'].apply(lambda x: pd.Series(extract_value_and_unit(x)))\n",
    "\n",
    "    max_rows_nanomaterial = nanomaterial_df.sort_values('Value', ascending=False).groupby('Unit').head(2).drop_duplicates().copy()\n",
    "    \n",
    "    # Drop unwanted columns\n",
    "    columns_to_drop = ['Reference', 'Unnamed: 7']\n",
    "    max_rows_nanomaterial = max_rows_nanomaterial.drop(columns=columns_to_drop)\n",
    "    \n",
    "    # Check if there are any rows to display\n",
    "    if not max_rows_nanomaterial.empty:\n",
    "        print(f\"\\nCytotoxicity Analysis for {particle_type} particles ({nanomaterial}) on {cell_type_input} cells:\")\n",
    "        for _, row in max_rows_nanomaterial.iterrows():\n",
    "            output_string = f\"{nanomaterial} nanomaterial of size {row['Size (nm)']} with shape as {row['Shape']} and with {row['Capping Agent']} capping agent and toxicity {row['Cytotoxicity (mg/ml)']} has better cellular uptake\"\n",
    "            print(output_string)\n"
   ]
  },
  {
   "cell_type": "code",
   "execution_count": null,
   "metadata": {},
   "outputs": [],
   "source": []
  }
 ],
 "metadata": {
  "kernelspec": {
   "display_name": "Python 3",
   "language": "python",
   "name": "python3"
  },
  "language_info": {
   "codemirror_mode": {
    "name": "ipython",
    "version": 3
   },
   "file_extension": ".py",
   "mimetype": "text/x-python",
   "name": "python",
   "nbconvert_exporter": "python",
   "pygments_lexer": "ipython3",
   "version": "3.10.6"
  }
 },
 "nbformat": 4,
 "nbformat_minor": 2
}
